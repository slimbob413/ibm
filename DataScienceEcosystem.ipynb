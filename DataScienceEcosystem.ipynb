{
 "cells": [
  {
   "cell_type": "markdown",
   "id": "a43a5433",
   "metadata": {},
   "source": [
    "# Data Science Tools and Ecosystem"
   ]
  },
  {
   "cell_type": "markdown",
   "id": "eb196512",
   "metadata": {},
   "source": [
    "In this Notebook, Data science tools and its eco system are listed here."
   ]
  },
  {
   "cell_type": "markdown",
   "id": "c65cfca7",
   "metadata": {},
   "source": [
    "**Objectives:**\n",
    "   + Python\n",
    "   + C++\n",
    "   + R"
   ]
  },
  {
   "cell_type": "markdown",
   "id": "9e5b063c",
   "metadata": {},
   "source": [
    "Some of the popular languages that Data Scientists use are:\n",
    "\n",
    "    1 Python\n",
    "    2 Julia\n",
    "    3 Scala\n",
    "    4 R\n",
    "    5 C++"
   ]
  },
  {
   "cell_type": "markdown",
   "id": "75e3c5b7",
   "metadata": {},
   "source": [
    "Some of the commonly used libraries used by Data Scientists include:\n",
    "\n",
    "    1 Numpy\n",
    "    2 Pandas\n",
    "    3 Matplotlib"
   ]
  },
  {
   "cell_type": "markdown",
   "id": "cf45fb61",
   "metadata": {},
   "source": [
    "| Data Science Tools |\n",
    "----------------------\n",
    "| R Studio           |\n",
    "| Jypyter Notebook.  |\n",
    "| Spyder             |\n"
   ]
  },
  {
   "cell_type": "markdown",
   "id": "da5c7900",
   "metadata": {},
   "source": [
    "### H3: Below are a few examples of evaluating arithmetic expressions in Python\n",
    "\n",
    "+ 2 + 2\n",
    "+ 3 * 3\n",
    "+ 4 - 1\n"
   ]
  },
  {
   "cell_type": "code",
   "execution_count": 4,
   "id": "0433f20c",
   "metadata": {},
   "outputs": [
    {
     "data": {
      "text/plain": [
       "17"
      ]
     },
     "execution_count": 4,
     "metadata": {},
     "output_type": "execute_result"
    }
   ],
   "source": [
    "# This a simple arithmetic expression to mutiply then add integers\n",
    "\n",
    "(3*4)+5"
   ]
  },
  {
   "cell_type": "code",
   "execution_count": 5,
   "id": "5c3042ad",
   "metadata": {},
   "outputs": [
    {
     "data": {
      "text/plain": [
       "3.3333333333333335"
      ]
     },
     "execution_count": 5,
     "metadata": {},
     "output_type": "execute_result"
    }
   ],
   "source": [
    "# This will convert 200 minutes to hours by diving by 60\n",
    "\n",
    "200 / 60"
   ]
  },
  {
   "cell_type": "markdown",
   "id": "1ca0f0c2",
   "metadata": {},
   "source": [
    "## Author\n",
    "Bob"
   ]
  },
  {
   "cell_type": "code",
   "execution_count": null,
   "id": "e07d0a18",
   "metadata": {},
   "outputs": [],
   "source": []
  }
 ],
 "metadata": {
  "kernelspec": {
   "display_name": "Python 3 (ipykernel)",
   "language": "python",
   "name": "python3"
  },
  "language_info": {
   "codemirror_mode": {
    "name": "ipython",
    "version": 3
   },
   "file_extension": ".py",
   "mimetype": "text/x-python",
   "name": "python",
   "nbconvert_exporter": "python",
   "pygments_lexer": "ipython3",
   "version": "3.11.5"
  }
 },
 "nbformat": 4,
 "nbformat_minor": 5
}
